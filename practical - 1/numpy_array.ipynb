{
 "cells": [
  {
   "cell_type": "code",
   "execution_count": 1,
   "metadata": {
    "scrolled": true
   },
   "outputs": [
    {
     "name": "stdout",
     "output_type": "stream",
     "text": [
      "[[[1 2 3 4 5]\n",
      "  [1 2 3 4 6]]\n",
      "\n",
      " [[0 9 8 7 7]\n",
      "  [7 6 5 4 3]]]\n",
      "<class 'numpy.ndarray'>\n",
      "3\n",
      "\n",
      "\n",
      "[[1 2 3 4 5]\n",
      " [1 2 3 4 6]]\n",
      "<class 'numpy.ndarray'>\n",
      "2\n",
      "\n",
      "\n",
      "[1 2 3 4 5]\n",
      "<class 'numpy.ndarray'>\n",
      "1\n"
     ]
    }
   ],
   "source": [
    "import numpy as np\n",
    "\n",
    "arr1 = np.array([[[1,2,3,4,5],[1,2,3,4,6]],[[0,9,8,7,7],[7,6,5,4,3]]])\n",
    "print(arr1)\n",
    "print(type(arr1))\n",
    "print(arr1.ndim)\n",
    "print(\"\\n\")\n",
    "arr2 = np.array([[1,2,3,4,5],[1,2,3,4,6]])\n",
    "print(arr2)\n",
    "print(type(arr2))\n",
    "print(arr2.ndim)\n",
    "print(\"\\n\")\n",
    "arr3 = np.array([1,2,3,4,5])\n",
    "print(arr3)\n",
    "print(type(arr3))\n",
    "print(arr3.ndim)"
   ]
  },
  {
   "cell_type": "code",
   "execution_count": 103,
   "metadata": {},
   "outputs": [
    {
     "name": "stdout",
     "output_type": "stream",
     "text": [
      "[[0. 0. 0.]\n",
      " [0. 0. 0.]\n",
      " [0. 0. 0.]]\n",
      "\n",
      "\n",
      "[[False False]\n",
      " [False False]\n",
      " [False False]]\n"
     ]
    }
   ],
   "source": [
    "arr1_zero = np.zeros((3,3), dtype=float)\n",
    "print(arr_zero)\n",
    "print(\"\\n\")\n",
    "arr2_zero = np.zeros((3,2),dtype=bool)\n",
    "print(arr2_zero)\n"
   ]
  },
  {
   "cell_type": "code",
   "execution_count": 104,
   "metadata": {},
   "outputs": [
    {
     "name": "stdout",
     "output_type": "stream",
     "text": [
      "[ 1  4  7 10 13 16 19]\n"
     ]
    }
   ],
   "source": [
    "arr_range = np.arange(1,20,3, dtype=int)\n",
    "print(arr_range)"
   ]
  },
  {
   "cell_type": "code",
   "execution_count": 105,
   "metadata": {},
   "outputs": [
    {
     "name": "stdout",
     "output_type": "stream",
     "text": [
      "[['' 'Col1' 'Col2']\n",
      " ['Row1' '1' '2']\n",
      " ['Row2' '3' '4']]\n",
      "Col1\n"
     ]
    },
    {
     "data": {
      "text/plain": [
       "array(['Col2', '2', '4'], dtype='<U4')"
      ]
     },
     "execution_count": 105,
     "metadata": {},
     "output_type": "execute_result"
    }
   ],
   "source": [
    "data = np.array([['','Col1','Col2'],['Row1',1,2],['Row2',3,4]])\n",
    "print(data)\n",
    "print(data[0][1])\n",
    "\n",
    "#retrieves 3rd column from all rows\n",
    "data[:,2]"
   ]
  },
  {
   "cell_type": "code",
   "execution_count": 242,
   "metadata": {},
   "outputs": [
    {
     "name": "stdout",
     "output_type": "stream",
     "text": [
      "<class 'list'>,<class 'tuple'>,<class 'dict'> \n",
      "\n",
      "-------------------------------------------------------------\n",
      "\n",
      "['paris' 'NY' 'Dehli' 'India'] <class 'numpy.ndarray'> \n",
      "\n",
      "['dog' 'cat' 'bat'] <class 'numpy.ndarray'> \n",
      "\n",
      "{0: 'raj', 1: 'kiya', 2: 'anuj'} <class 'numpy.ndarray'> \n",
      "\n",
      "This is 0 dimensional array. Hence not useful--> dimension of arr5 =  0\n"
     ]
    }
   ],
   "source": [
    "#converting list,tuples and dictionaries to numpy array\n",
    "\n",
    "list1 = [\"paris\",\"NY\",\"Dehli\",\"India\"]\n",
    "print(type(list1),end=\",\")\n",
    "tuple1 = ('dog','cat','bat')\n",
    "print(type(tuple1),end=\",\")\n",
    "dictionary = {0:'raj',1:'kiya',2:'anuj'}\n",
    "print(type(dictionary),'\\n')\n",
    "print('-------------------------------------------------------------\\n')\n",
    "arr3 = np.array(list1)\n",
    "print(arr3,type(arr3),'\\n')\n",
    "arr4 = np.array(tuple1)\n",
    "print(arr4,type(arr4),'\\n')\n",
    "arr5 = np.array(dictionary)\n",
    "print(arr5,type(arr5),'\\n')\n",
    "print('This is 0 dimensional array. Hence not useful--> dimension of arr5 = ',arr5.ndim)"
   ]
  },
  {
   "cell_type": "code",
   "execution_count": 239,
   "metadata": {},
   "outputs": [
    {
     "name": "stdout",
     "output_type": "stream",
     "text": [
      "[['dog']\n",
      " ['cat']\n",
      " ['bat']] \n",
      " dimension of arr4 after reshaping is : 2\n",
      "dog & cat & bat\n",
      "\n",
      "dict to array is :\n",
      " [['0' 'raj']\n",
      " ['1' 'kiya']\n",
      " ['2' 'anuj']]\n",
      "\n",
      " 2\n",
      "\n",
      " <class 'numpy.ndarray'>\n",
      "\n",
      " <class 'dict'>\n"
     ]
    }
   ],
   "source": [
    "#reshaping 1d array (i.e. tuple1 to 1d array) to 2d array\n",
    "arr4_2d = arr4.reshape(3,1)\n",
    "print(arr4_2d,'\\n','dimension of arr4 after reshaping is :',arr4_2d.ndim)\n",
    "arr4_2d[:,0]\n",
    "print(arr4_2d[0][0],'&',arr4_2d[1][0],'&',arr4_2d[2][0])\n",
    "\n",
    "#dictionary to numpy array\n",
    "\n",
    "result = dictionary.items()\n",
    "data = list(result)\n",
    "ndarray=np.array(data)\n",
    "\n",
    "print('\\ndict to array is :\\n',ndarray)\n",
    "print('\\n',ndarray.ndim)\n",
    "print('\\n',type(ndarray))\n",
    "print('\\n',type(dictionary))"
   ]
  },
  {
   "cell_type": "code",
   "execution_count": 4,
   "metadata": {},
   "outputs": [],
   "source": [
    "import pandas as pd"
   ]
  },
  {
   "cell_type": "code",
   "execution_count": 170,
   "metadata": {},
   "outputs": [
    {
     "data": {
      "text/html": [
       "<div>\n",
       "<style scoped>\n",
       "    .dataframe tbody tr th:only-of-type {\n",
       "        vertical-align: middle;\n",
       "    }\n",
       "\n",
       "    .dataframe tbody tr th {\n",
       "        vertical-align: top;\n",
       "    }\n",
       "\n",
       "    .dataframe thead th {\n",
       "        text-align: right;\n",
       "    }\n",
       "</style>\n",
       "<table border=\"1\" class=\"dataframe\">\n",
       "  <thead>\n",
       "    <tr style=\"text-align: right;\">\n",
       "      <th></th>\n",
       "      <th>agents</th>\n",
       "      <th>ranks</th>\n",
       "      <th>cost</th>\n",
       "    </tr>\n",
       "  </thead>\n",
       "  <tbody>\n",
       "    <tr>\n",
       "      <th>0</th>\n",
       "      <td>ninja</td>\n",
       "      <td>50</td>\n",
       "      <td>10</td>\n",
       "    </tr>\n",
       "    <tr>\n",
       "      <th>1</th>\n",
       "      <td>beast</td>\n",
       "      <td>60</td>\n",
       "      <td>20</td>\n",
       "    </tr>\n",
       "    <tr>\n",
       "      <th>2</th>\n",
       "      <td>dragon</td>\n",
       "      <td>70</td>\n",
       "      <td>30</td>\n",
       "    </tr>\n",
       "    <tr>\n",
       "      <th>3</th>\n",
       "      <td>nerd</td>\n",
       "      <td>80</td>\n",
       "      <td>40</td>\n",
       "    </tr>\n",
       "  </tbody>\n",
       "</table>\n",
       "</div>"
      ],
      "text/plain": [
       "   agents  ranks  cost\n",
       "0   ninja     50    10\n",
       "1   beast     60    20\n",
       "2  dragon     70    30\n",
       "3    nerd     80    40"
      ]
     },
     "execution_count": 170,
     "metadata": {},
     "output_type": "execute_result"
    }
   ],
   "source": [
    "#creating dataframe from various data types\n",
    "\n",
    "#from dictionary\n",
    "data = {\"agents\":[\"ninja\",\"beast\",\"dragon\",\"nerd\"],'ranks':[50,60,70,80],'cost':[10,20,30,40]}\n",
    "df3 = pd.DataFrame(data)\n",
    "df3\n",
    "\n"
   ]
  },
  {
   "cell_type": "code",
   "execution_count": 39,
   "metadata": {},
   "outputs": [
    {
     "data": {
      "text/html": [
       "<div>\n",
       "<style scoped>\n",
       "    .dataframe tbody tr th:only-of-type {\n",
       "        vertical-align: middle;\n",
       "    }\n",
       "\n",
       "    .dataframe tbody tr th {\n",
       "        vertical-align: top;\n",
       "    }\n",
       "\n",
       "    .dataframe thead th {\n",
       "        text-align: right;\n",
       "    }\n",
       "</style>\n",
       "<table border=\"1\" class=\"dataframe\">\n",
       "  <thead>\n",
       "    <tr style=\"text-align: right;\">\n",
       "      <th></th>\n",
       "      <th>months</th>\n",
       "    </tr>\n",
       "  </thead>\n",
       "  <tbody>\n",
       "    <tr>\n",
       "      <th>0</th>\n",
       "      <td>jan</td>\n",
       "    </tr>\n",
       "    <tr>\n",
       "      <th>1</th>\n",
       "      <td>feb</td>\n",
       "    </tr>\n",
       "    <tr>\n",
       "      <th>2</th>\n",
       "      <td>march</td>\n",
       "    </tr>\n",
       "    <tr>\n",
       "      <th>3</th>\n",
       "      <td>april</td>\n",
       "    </tr>\n",
       "    <tr>\n",
       "      <th>4</th>\n",
       "      <td>may</td>\n",
       "    </tr>\n",
       "    <tr>\n",
       "      <th>5</th>\n",
       "      <td>june</td>\n",
       "    </tr>\n",
       "  </tbody>\n",
       "</table>\n",
       "</div>"
      ],
      "text/plain": [
       "  months\n",
       "0    jan\n",
       "1    feb\n",
       "2  march\n",
       "3  april\n",
       "4    may\n",
       "5   june"
      ]
     },
     "execution_count": 39,
     "metadata": {},
     "output_type": "execute_result"
    }
   ],
   "source": [
    "#from list data-type\n",
    "ls1 = ['jan','feb','march','april','may','june']\n",
    "df1 = pd.DataFrame(ls1,columns=['months'])\n",
    "df1"
   ]
  },
  {
   "cell_type": "code",
   "execution_count": 32,
   "metadata": {},
   "outputs": [
    {
     "data": {
      "text/html": [
       "<div>\n",
       "<style scoped>\n",
       "    .dataframe tbody tr th:only-of-type {\n",
       "        vertical-align: middle;\n",
       "    }\n",
       "\n",
       "    .dataframe tbody tr th {\n",
       "        vertical-align: top;\n",
       "    }\n",
       "\n",
       "    .dataframe thead th {\n",
       "        text-align: right;\n",
       "    }\n",
       "</style>\n",
       "<table border=\"1\" class=\"dataframe\">\n",
       "  <thead>\n",
       "    <tr style=\"text-align: right;\">\n",
       "      <th></th>\n",
       "      <th>days</th>\n",
       "    </tr>\n",
       "  </thead>\n",
       "  <tbody>\n",
       "    <tr>\n",
       "      <th>0</th>\n",
       "      <td>mon</td>\n",
       "    </tr>\n",
       "    <tr>\n",
       "      <th>1</th>\n",
       "      <td>tue</td>\n",
       "    </tr>\n",
       "    <tr>\n",
       "      <th>2</th>\n",
       "      <td>wed</td>\n",
       "    </tr>\n",
       "    <tr>\n",
       "      <th>3</th>\n",
       "      <td>thu</td>\n",
       "    </tr>\n",
       "  </tbody>\n",
       "</table>\n",
       "</div>"
      ],
      "text/plain": [
       "  days\n",
       "0  mon\n",
       "1  tue\n",
       "2  wed\n",
       "3  thu"
      ]
     },
     "execution_count": 32,
     "metadata": {},
     "output_type": "execute_result"
    }
   ],
   "source": [
    "#from tuples\n",
    "\n",
    "tup = ('mon','tue','wed','thu')\n",
    "df2 = pd.DataFrame(tup,columns=['days'])\n",
    "df2\n"
   ]
  },
  {
   "cell_type": "code",
   "execution_count": 41,
   "metadata": {},
   "outputs": [
    {
     "data": {
      "text/html": [
       "<div>\n",
       "<style scoped>\n",
       "    .dataframe tbody tr th:only-of-type {\n",
       "        vertical-align: middle;\n",
       "    }\n",
       "\n",
       "    .dataframe tbody tr th {\n",
       "        vertical-align: top;\n",
       "    }\n",
       "\n",
       "    .dataframe thead th {\n",
       "        text-align: right;\n",
       "    }\n",
       "</style>\n",
       "<table border=\"1\" class=\"dataframe\">\n",
       "  <thead>\n",
       "    <tr style=\"text-align: right;\">\n",
       "      <th></th>\n",
       "      <th>num</th>\n",
       "      <th>square</th>\n",
       "      <th>square_of_square</th>\n",
       "    </tr>\n",
       "  </thead>\n",
       "  <tbody>\n",
       "    <tr>\n",
       "      <th>0</th>\n",
       "      <td>2</td>\n",
       "      <td>4</td>\n",
       "      <td>16</td>\n",
       "    </tr>\n",
       "    <tr>\n",
       "      <th>1</th>\n",
       "      <td>4</td>\n",
       "      <td>16</td>\n",
       "      <td>256</td>\n",
       "    </tr>\n",
       "    <tr>\n",
       "      <th>2</th>\n",
       "      <td>8</td>\n",
       "      <td>64</td>\n",
       "      <td>4096</td>\n",
       "    </tr>\n",
       "  </tbody>\n",
       "</table>\n",
       "</div>"
      ],
      "text/plain": [
       "   num  square  square_of_square\n",
       "0    2       4                16\n",
       "1    4      16               256\n",
       "2    8      64              4096"
      ]
     },
     "execution_count": 41,
     "metadata": {},
     "output_type": "execute_result"
    }
   ],
   "source": [
    "#from numpy array\n",
    "num_arr = np.array([[2,4],\n",
    "                    [4,16],\n",
    "                    [8,64]])\n",
    "\n",
    "df4 = pd.DataFrame(num_arr,columns=['num','square'])\n",
    "df4['square_of_square'] = df4['square']**2\n",
    "df4\n"
   ]
  },
  {
   "cell_type": "code",
   "execution_count": 42,
   "metadata": {},
   "outputs": [
    {
     "name": "stdout",
     "output_type": "stream",
     "text": [
      "Client Name      NaN\n",
      "Country        Japan\n",
      "Name: Jon Smith, dtype: object \n",
      " Client Name    NaN\n",
      "Country         US\n",
      "Name: Bill Martin, dtype: object\n"
     ]
    }
   ],
   "source": [
    "data1 = pd.read_csv('file.csv',index_col=0)\n",
    "df5 = pd.DataFrame(data1,columns=['Client Name','Country'])\n",
    "first = df5.loc['Jon Smith']\n",
    "second = df5.loc['Bill Martin']\n",
    "print(first,'\\n',second)"
   ]
  },
  {
   "cell_type": "code",
   "execution_count": 43,
   "metadata": {},
   "outputs": [
    {
     "data": {
      "text/html": [
       "<div>\n",
       "<style scoped>\n",
       "    .dataframe tbody tr th:only-of-type {\n",
       "        vertical-align: middle;\n",
       "    }\n",
       "\n",
       "    .dataframe tbody tr th {\n",
       "        vertical-align: top;\n",
       "    }\n",
       "\n",
       "    .dataframe thead th {\n",
       "        text-align: right;\n",
       "    }\n",
       "</style>\n",
       "<table border=\"1\" class=\"dataframe\">\n",
       "  <thead>\n",
       "    <tr style=\"text-align: right;\">\n",
       "      <th></th>\n",
       "      <th>Country</th>\n",
       "      <th>Product</th>\n",
       "      <th>Purchase Price</th>\n",
       "    </tr>\n",
       "    <tr>\n",
       "      <th>Client Name</th>\n",
       "      <th></th>\n",
       "      <th></th>\n",
       "      <th></th>\n",
       "    </tr>\n",
       "  </thead>\n",
       "  <tbody>\n",
       "    <tr>\n",
       "      <th>Jon Smith</th>\n",
       "      <td>Japan</td>\n",
       "      <td>Computer</td>\n",
       "      <td>$800</td>\n",
       "    </tr>\n",
       "    <tr>\n",
       "      <th>Bill Martin</th>\n",
       "      <td>US</td>\n",
       "      <td>Tablet</td>\n",
       "      <td>$450</td>\n",
       "    </tr>\n",
       "    <tr>\n",
       "      <th>Maria Blue</th>\n",
       "      <td>Canada</td>\n",
       "      <td>Printer</td>\n",
       "      <td>$150</td>\n",
       "    </tr>\n",
       "    <tr>\n",
       "      <th>Rita Yu</th>\n",
       "      <td>Brazil</td>\n",
       "      <td>Laptop</td>\n",
       "      <td>$1,200</td>\n",
       "    </tr>\n",
       "    <tr>\n",
       "      <th>Jack Mo</th>\n",
       "      <td>UK</td>\n",
       "      <td>Monitor</td>\n",
       "      <td>$300</td>\n",
       "    </tr>\n",
       "    <tr>\n",
       "      <th>Ron Green</th>\n",
       "      <td>Spain</td>\n",
       "      <td>Laptop</td>\n",
       "      <td>$1,200</td>\n",
       "    </tr>\n",
       "    <tr>\n",
       "      <th>Jeff Long</th>\n",
       "      <td>China</td>\n",
       "      <td>Laptop</td>\n",
       "      <td>$1,200</td>\n",
       "    </tr>\n",
       "    <tr>\n",
       "      <th>Carrie Lan</th>\n",
       "      <td>Italy</td>\n",
       "      <td>Computer</td>\n",
       "      <td>$800</td>\n",
       "    </tr>\n",
       "    <tr>\n",
       "      <th>Marry Sig</th>\n",
       "      <td>Peru</td>\n",
       "      <td>Computer</td>\n",
       "      <td>$800</td>\n",
       "    </tr>\n",
       "    <tr>\n",
       "      <th>Ben Baker</th>\n",
       "      <td>Russia</td>\n",
       "      <td>Printer</td>\n",
       "      <td>$150</td>\n",
       "    </tr>\n",
       "  </tbody>\n",
       "</table>\n",
       "</div>"
      ],
      "text/plain": [
       "            Country   Product Purchase Price\n",
       "Client Name                                 \n",
       "Jon Smith     Japan  Computer           $800\n",
       "Bill Martin      US    Tablet           $450\n",
       "Maria Blue   Canada   Printer           $150\n",
       "Rita Yu      Brazil    Laptop         $1,200\n",
       "Jack Mo          UK   Monitor           $300\n",
       "Ron Green     Spain    Laptop         $1,200\n",
       "Jeff Long     China    Laptop         $1,200\n",
       "Carrie Lan    Italy  Computer           $800\n",
       "Marry Sig      Peru  Computer           $800\n",
       "Ben Baker    Russia   Printer           $150"
      ]
     },
     "execution_count": 43,
     "metadata": {},
     "output_type": "execute_result"
    }
   ],
   "source": [
    "data1"
   ]
  },
  {
   "cell_type": "code",
   "execution_count": null,
   "metadata": {},
   "outputs": [],
   "source": []
  }
 ],
 "metadata": {
  "kernelspec": {
   "display_name": "Python 3",
   "language": "python",
   "name": "python3"
  },
  "language_info": {
   "codemirror_mode": {
    "name": "ipython",
    "version": 3
   },
   "file_extension": ".py",
   "mimetype": "text/x-python",
   "name": "python",
   "nbconvert_exporter": "python",
   "pygments_lexer": "ipython3",
   "version": "3.8.3"
  }
 },
 "nbformat": 4,
 "nbformat_minor": 4
}
